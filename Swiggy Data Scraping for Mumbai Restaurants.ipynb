{
 "cells": [
  {
   "cell_type": "code",
   "execution_count": 53,
   "id": "6a2c5331",
   "metadata": {},
   "outputs": [],
   "source": [
    "# Importing Libraries\n",
    "from bs4 import BeautifulSoup\n",
    "import requests\n",
    "import pandas as pd\n",
    "\n",
    "# Urls\n",
    "base='https://www.swiggy.com/'\n",
    "url='https://www.swiggy.com/city/mumbai?page='\n",
    "\n",
    "# Header\n",
    "headers={\n",
    "    'User-Agent':'Mozilla/5.0 (Windows NT 10.0; Win64; x64) AppleWebKit/537.36 (KHTML, like Gecko) Chrome/106.0.0.0 Safari/537.36'\n",
    "}\n",
    "\n",
    "restaurants=[]\n",
    "for i in range(8):\n",
    "    Url=url+str(i)\n",
    "    r=requests.get(Url,headers=headers)\n",
    "    soup=BeautifulSoup(r.content,'html.parser')\n",
    "    item=soup.find_all('div',class_=\"_3XX_A\")\n",
    "    for i in item:\n",
    "        restaurant_name=i.find('div',class_=\"nA6kb\").text\n",
    "        description=i.find('div',class_=\"_1gURR\").text\n",
    "        rating=i.find('div',class_=\"_9uwBC\").text\n",
    "        price_for_two=i.find('div',class_=\"nVWSi\").text.split()[0][1:]\n",
    "        link=base+i.find('a',href=True)['href']\n",
    "        restraunt={\n",
    "            'Restaurant Name':restaurant_name,\n",
    "            'Description':description,\n",
    "            'Rating':rating,\n",
    "            'Price For 2':price_for_two,\n",
    "            'link':link\n",
    "        }\n",
    "        restaurants.append(restraunt)\n",
    "    \n",
    "data=pd.DataFrame(restaurants)\n",
    "data.to_excel(\"Mumbai_Restaurant_Data.xlsx\")"
   ]
  }
 ],
 "metadata": {
  "kernelspec": {
   "display_name": "Python 3 (ipykernel)",
   "language": "python",
   "name": "python3"
  },
  "language_info": {
   "codemirror_mode": {
    "name": "ipython",
    "version": 3
   },
   "file_extension": ".py",
   "mimetype": "text/x-python",
   "name": "python",
   "nbconvert_exporter": "python",
   "pygments_lexer": "ipython3",
   "version": "3.9.7"
  }
 },
 "nbformat": 4,
 "nbformat_minor": 5
}
